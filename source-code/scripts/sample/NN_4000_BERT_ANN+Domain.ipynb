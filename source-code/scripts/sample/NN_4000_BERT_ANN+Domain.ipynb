{
  "nbformat": 4,
  "nbformat_minor": 0,
  "metadata": {
    "colab": {
      "name": "NN-4000-BERT-ANN+Domain.ipynb",
      "provenance": []
    },
    "kernelspec": {
      "name": "python3",
      "display_name": "Python 3"
    }
  },
  "cells": [
    {
      "cell_type": "code",
      "metadata": {
        "id": "sNJ7600CBQ9B",
        "colab": {
          "base_uri": "https://localhost:8080/"
        },
        "outputId": "47a56c9c-a55a-4f13-fb34-0e1cb217fd44"
      },
      "source": [
        "!pip install keras"
      ],
      "execution_count": null,
      "outputs": [
        {
          "output_type": "stream",
          "text": [
            "Requirement already satisfied: keras in /usr/local/lib/python3.6/dist-packages (2.4.3)\n",
            "Requirement already satisfied: pyyaml in /usr/local/lib/python3.6/dist-packages (from keras) (3.13)\n",
            "Requirement already satisfied: numpy>=1.9.1 in /usr/local/lib/python3.6/dist-packages (from keras) (1.18.5)\n",
            "Requirement already satisfied: h5py in /usr/local/lib/python3.6/dist-packages (from keras) (2.10.0)\n",
            "Requirement already satisfied: scipy>=0.14 in /usr/local/lib/python3.6/dist-packages (from keras) (1.4.1)\n",
            "Requirement already satisfied: six in /usr/local/lib/python3.6/dist-packages (from h5py->keras) (1.15.0)\n"
          ],
          "name": "stdout"
        }
      ]
    },
    {
      "cell_type": "code",
      "metadata": {
        "id": "ty-ANGguB6wF"
      },
      "source": [
        "import pandas as pd\n",
        "import numpy as np\n",
        "import sklearn.model_selection as model_selection"
      ],
      "execution_count": null,
      "outputs": []
    },
    {
      "cell_type": "code",
      "metadata": {
        "id": "wnlqHh18B_Sh",
        "colab": {
          "base_uri": "https://localhost:8080/"
        },
        "outputId": "bae3e0fd-deea-4f58-f1f9-8bbd3bc9b756"
      },
      "source": [
        "from google.colab import drive\n",
        "drive.mount(\"/content/drive\")"
      ],
      "execution_count": null,
      "outputs": [
        {
          "output_type": "stream",
          "text": [
            "Mounted at /content/drive\n"
          ],
          "name": "stdout"
        }
      ]
    },
    {
      "cell_type": "code",
      "metadata": {
        "id": "zH6YikbfCJ9V"
      },
      "source": [
        "data='/content/drive/My Drive/Colab Notebooks/data/combined.csv'"
      ],
      "execution_count": null,
      "outputs": []
    },
    {
      "cell_type": "code",
      "metadata": {
        "id": "-m3_b54mDyfz"
      },
      "source": [
        "df=pd.read_csv(data)"
      ],
      "execution_count": null,
      "outputs": []
    },
    {
      "cell_type": "code",
      "metadata": {
        "id": "qepK--8XQtFJ",
        "colab": {
          "base_uri": "https://localhost:8080/"
        },
        "outputId": "8cd7a3b2-ec0c-48ad-bd2e-9e4f129c8f8f"
      },
      "source": [
        "len(df)"
      ],
      "execution_count": null,
      "outputs": [
        {
          "output_type": "execute_result",
          "data": {
            "text/plain": [
              "4000"
            ]
          },
          "metadata": {
            "tags": []
          },
          "execution_count": 9
        }
      ]
    },
    {
      "cell_type": "code",
      "metadata": {
        "id": "N-JyRikqREK6"
      },
      "source": [
        "df=df.drop(['ID','Target'],axis=1)"
      ],
      "execution_count": null,
      "outputs": []
    },
    {
      "cell_type": "code",
      "metadata": {
        "id": "LWIEkAryELyA"
      },
      "source": [
        "X=df[:]\n",
        "y=[0 for x in range(2000)]+[1 for y in range(2000)]"
      ],
      "execution_count": null,
      "outputs": []
    },
    {
      "cell_type": "code",
      "metadata": {
        "id": "cselErxND8iF",
        "colab": {
          "base_uri": "https://localhost:8080/"
        },
        "outputId": "4708708c-2f6f-4a90-a5db-8ca078d1dd4e"
      },
      "source": [
        "X_train, X_test, y_train, y_test = model_selection.train_test_split(X, y, train_size=0.65,test_size=0.35, random_state=101)\n",
        "print (\"X_train: \", X_train)\n",
        "print (\"y_train: \", y_train)\n",
        "print(\"X_test: \", X_test)\n",
        "print (\"y_test: \", y_test)"
      ],
      "execution_count": null,
      "outputs": [
        {
          "output_type": "stream",
          "text": [
            "X_train:        Feature 1  Feature 2  Feature 3  Feature 4  Feature 5  ...  f1  f2  f3  f4  f5\n",
            "2166  -0.743679  -0.448635  -0.823576   0.554261   0.503987  ...   0   0   0   0   1\n",
            "3403  -0.736664  -0.583761  -0.948207   0.582826   0.640607  ...   1   0   1   0   0\n",
            "2308  -0.837024  -0.482790  -0.914160   0.592495   0.674555  ...   1   0   1   0   0\n",
            "3292  -0.573492  -0.461850  -0.967838   0.527127   0.645495  ...   1   0   0   0   0\n",
            "2810  -0.763873  -0.548033  -0.972949   0.726072   0.725403  ...   2   0   0   0   0\n",
            "...         ...        ...        ...        ...        ...  ...  ..  ..  ..  ..  ..\n",
            "1599  -0.573621  -0.375964  -0.697506   0.318243   0.539476  ...   0   0   0   0   0\n",
            "3910  -0.677524  -0.313311  -0.839104   0.494552   0.582225  ...   0   0   0   0   0\n",
            "1361  -0.737356  -0.558346  -0.861774   0.567295   0.677595  ...   0   0   0   0   0\n",
            "1547  -0.962977  -0.361360  -0.909049   0.941109   0.716986  ...   0   0   0   0   0\n",
            "863   -0.863552  -0.340193  -0.757528   0.814284   0.479214  ...   0   0   0   0   0\n",
            "\n",
            "[2600 rows x 773 columns]\n",
            "y_train:  [1, 1, 1, 1, 1, 0, 0, 0, 1, 0, 0, 1, 1, 1, 0, 0, 1, 1, 0, 1, 0, 0, 1, 1, 0, 1, 1, 0, 1, 0, 0, 0, 0, 1, 0, 0, 1, 1, 1, 0, 1, 1, 1, 1, 0, 1, 1, 1, 1, 0, 0, 1, 0, 0, 1, 0, 1, 1, 1, 1, 1, 0, 0, 0, 1, 0, 1, 0, 1, 1, 1, 1, 0, 0, 0, 0, 0, 0, 1, 0, 1, 1, 0, 0, 0, 1, 0, 0, 1, 0, 0, 1, 0, 0, 0, 1, 0, 0, 1, 1, 1, 1, 1, 1, 1, 1, 0, 0, 0, 0, 0, 0, 1, 0, 0, 0, 1, 0, 0, 0, 1, 1, 1, 1, 0, 1, 0, 1, 1, 1, 1, 1, 0, 1, 1, 0, 0, 1, 0, 0, 0, 0, 0, 0, 1, 0, 1, 0, 0, 0, 0, 0, 0, 1, 1, 1, 1, 0, 0, 0, 0, 1, 0, 0, 0, 0, 0, 1, 0, 1, 1, 0, 1, 1, 0, 0, 0, 0, 1, 1, 1, 0, 0, 1, 1, 1, 0, 1, 1, 1, 0, 0, 0, 0, 1, 0, 1, 1, 0, 0, 0, 0, 1, 0, 0, 0, 1, 1, 0, 1, 0, 0, 1, 1, 1, 0, 0, 1, 1, 0, 1, 1, 0, 0, 1, 1, 1, 1, 1, 0, 0, 1, 1, 1, 1, 0, 0, 0, 0, 0, 1, 1, 1, 0, 0, 1, 1, 1, 0, 0, 1, 0, 0, 0, 1, 0, 1, 0, 1, 0, 0, 0, 0, 0, 1, 1, 0, 1, 0, 1, 0, 0, 1, 1, 1, 1, 0, 0, 1, 0, 1, 0, 1, 0, 0, 0, 0, 1, 0, 1, 1, 0, 0, 1, 1, 1, 1, 0, 1, 0, 1, 0, 1, 0, 1, 0, 0, 1, 0, 0, 1, 1, 1, 1, 1, 0, 0, 0, 0, 1, 1, 0, 0, 0, 0, 1, 1, 0, 1, 1, 0, 0, 0, 1, 0, 1, 0, 0, 0, 0, 0, 0, 1, 0, 0, 1, 0, 0, 1, 0, 1, 1, 0, 0, 1, 1, 0, 0, 0, 1, 1, 1, 1, 0, 1, 1, 1, 1, 1, 0, 1, 0, 1, 0, 1, 1, 0, 0, 1, 1, 0, 1, 0, 1, 0, 1, 0, 0, 1, 0, 0, 1, 1, 1, 1, 0, 0, 1, 0, 0, 0, 0, 1, 0, 1, 0, 0, 1, 0, 1, 0, 0, 0, 0, 0, 1, 0, 1, 0, 0, 1, 0, 1, 1, 0, 1, 1, 1, 1, 1, 1, 0, 0, 0, 0, 0, 1, 0, 0, 0, 0, 1, 1, 0, 0, 0, 0, 0, 0, 0, 0, 0, 1, 1, 0, 0, 0, 1, 1, 1, 1, 0, 0, 1, 0, 1, 1, 0, 0, 0, 0, 1, 1, 0, 0, 0, 1, 0, 1, 0, 1, 1, 1, 1, 1, 0, 0, 0, 0, 1, 0, 0, 1, 0, 1, 1, 0, 0, 0, 0, 0, 1, 0, 1, 0, 1, 1, 1, 1, 0, 0, 0, 1, 1, 1, 0, 0, 1, 1, 1, 0, 0, 0, 0, 1, 0, 0, 0, 1, 1, 1, 0, 1, 0, 0, 0, 1, 1, 0, 1, 1, 0, 1, 0, 0, 0, 1, 1, 0, 1, 1, 0, 0, 0, 0, 1, 1, 0, 0, 0, 0, 1, 0, 1, 0, 0, 1, 1, 0, 0, 0, 1, 1, 0, 1, 1, 0, 0, 0, 0, 0, 1, 1, 0, 1, 0, 0, 0, 0, 0, 0, 0, 1, 1, 1, 0, 0, 1, 0, 0, 1, 0, 1, 1, 1, 0, 1, 0, 0, 0, 0, 0, 1, 1, 0, 0, 0, 1, 0, 1, 1, 0, 0, 1, 0, 0, 1, 1, 0, 0, 1, 1, 0, 1, 1, 1, 1, 0, 0, 0, 1, 1, 0, 1, 1, 0, 0, 1, 1, 1, 1, 0, 0, 1, 1, 1, 0, 1, 1, 1, 1, 0, 0, 0, 1, 1, 1, 1, 1, 0, 0, 0, 0, 0, 0, 0, 1, 1, 0, 1, 0, 1, 1, 1, 0, 1, 0, 1, 1, 0, 1, 1, 1, 0, 1, 1, 1, 1, 0, 1, 1, 0, 0, 0, 1, 0, 1, 1, 1, 1, 1, 0, 0, 1, 0, 0, 1, 1, 1, 1, 0, 0, 1, 1, 1, 1, 1, 1, 0, 1, 0, 0, 1, 1, 0, 1, 1, 0, 1, 0, 1, 1, 1, 1, 0, 0, 0, 1, 0, 1, 1, 1, 1, 0, 0, 1, 0, 1, 0, 1, 0, 0, 0, 1, 0, 1, 1, 0, 1, 1, 1, 0, 1, 1, 0, 0, 0, 1, 1, 1, 1, 0, 1, 1, 0, 1, 1, 1, 0, 0, 0, 0, 0, 0, 0, 1, 1, 0, 0, 1, 0, 1, 1, 1, 0, 1, 0, 0, 1, 1, 0, 1, 0, 0, 1, 0, 0, 0, 0, 1, 0, 0, 1, 1, 0, 0, 0, 1, 0, 1, 1, 0, 0, 0, 0, 0, 1, 1, 1, 1, 1, 0, 1, 0, 1, 1, 1, 0, 0, 0, 0, 1, 1, 0, 0, 0, 1, 0, 0, 1, 0, 0, 1, 0, 1, 1, 0, 0, 0, 0, 0, 1, 0, 1, 1, 1, 1, 0, 0, 0, 0, 1, 0, 1, 0, 1, 0, 0, 0, 0, 1, 0, 0, 1, 0, 0, 0, 1, 0, 1, 0, 0, 1, 1, 0, 1, 0, 1, 1, 1, 1, 1, 1, 0, 0, 1, 0, 0, 1, 0, 0, 0, 0, 0, 0, 1, 1, 1, 1, 0, 0, 0, 0, 0, 0, 1, 0, 0, 0, 1, 1, 0, 0, 1, 1, 0, 0, 0, 1, 0, 0, 0, 0, 1, 1, 0, 0, 1, 1, 0, 1, 1, 1, 1, 1, 0, 1, 1, 1, 0, 1, 0, 0, 1, 0, 1, 0, 0, 1, 1, 1, 1, 0, 0, 0, 1, 1, 1, 1, 1, 1, 0, 0, 0, 0, 1, 1, 1, 0, 0, 1, 0, 0, 1, 0, 1, 0, 1, 0, 1, 1, 0, 0, 0, 1, 1, 0, 1, 1, 0, 0, 1, 1, 1, 0, 1, 1, 1, 0, 1, 1, 0, 1, 1, 0, 0, 1, 1, 0, 0, 1, 1, 1, 1, 0, 1, 0, 0, 0, 1, 0, 0, 0, 1, 0, 1, 0, 1, 1, 0, 1, 1, 1, 1, 1, 1, 0, 1, 0, 1, 0, 1, 1, 0, 1, 1, 1, 0, 0, 1, 0, 1, 1, 0, 0, 0, 0, 1, 0, 0, 0, 1, 1, 1, 1, 1, 0, 0, 0, 0, 0, 1, 0, 1, 0, 1, 0, 0, 1, 0, 1, 1, 0, 1, 0, 1, 1, 1, 1, 1, 0, 1, 1, 0, 0, 0, 0, 1, 1, 1, 1, 1, 0, 1, 1, 0, 1, 0, 0, 0, 1, 0, 1, 1, 0, 0, 1, 1, 0, 1, 1, 0, 1, 0, 1, 0, 1, 1, 0, 0, 0, 0, 1, 1, 0, 0, 0, 1, 0, 0, 1, 1, 1, 0, 0, 0, 1, 0, 1, 0, 1, 1, 0, 0, 0, 1, 1, 1, 1, 0, 0, 0, 0, 1, 1, 0, 0, 1, 1, 0, 0, 0, 1, 0, 1, 1, 0, 0, 1, 0, 0, 1, 0, 1, 1, 1, 0, 1, 0, 1, 0, 1, 1, 0, 1, 1, 0, 1, 1, 0, 0, 1, 0, 0, 0, 0, 0, 1, 0, 0, 1, 0, 1, 1, 0, 0, 1, 1, 0, 0, 1, 1, 0, 1, 1, 1, 1, 1, 0, 1, 0, 0, 1, 1, 0, 1, 0, 0, 1, 0, 1, 1, 0, 0, 0, 0, 0, 0, 1, 1, 0, 1, 1, 1, 1, 0, 0, 1, 1, 0, 1, 0, 1, 1, 0, 1, 0, 1, 1, 0, 0, 0, 0, 1, 1, 0, 1, 0, 1, 1, 0, 0, 0, 0, 0, 1, 1, 1, 1, 0, 1, 0, 0, 0, 0, 0, 1, 1, 0, 1, 1, 1, 0, 1, 1, 1, 0, 0, 1, 1, 0, 1, 0, 0, 1, 1, 0, 1, 1, 1, 1, 1, 1, 1, 1, 1, 0, 0, 0, 1, 1, 1, 1, 1, 0, 1, 0, 0, 0, 1, 1, 1, 0, 1, 0, 0, 1, 1, 0, 1, 1, 1, 0, 1, 0, 1, 1, 1, 1, 0, 0, 1, 1, 0, 1, 0, 0, 0, 0, 1, 1, 1, 0, 1, 1, 1, 1, 0, 1, 0, 0, 1, 1, 1, 0, 0, 1, 0, 0, 0, 0, 1, 0, 1, 0, 1, 0, 0, 0, 1, 0, 0, 1, 0, 1, 1, 1, 1, 0, 1, 0, 1, 0, 1, 1, 1, 0, 1, 1, 0, 1, 1, 1, 1, 0, 1, 0, 0, 1, 1, 0, 0, 0, 0, 1, 0, 1, 0, 0, 1, 0, 0, 1, 1, 1, 1, 0, 1, 1, 0, 0, 1, 1, 1, 1, 0, 1, 1, 1, 0, 0, 0, 0, 1, 1, 1, 0, 0, 1, 0, 1, 1, 1, 0, 0, 1, 1, 0, 1, 1, 0, 1, 0, 0, 0, 0, 0, 1, 1, 0, 0, 0, 1, 1, 0, 0, 1, 0, 0, 0, 1, 0, 1, 1, 1, 0, 1, 1, 1, 1, 1, 1, 0, 1, 0, 1, 1, 0, 1, 1, 0, 1, 1, 0, 1, 1, 1, 1, 1, 1, 1, 0, 1, 1, 0, 1, 0, 0, 1, 0, 0, 1, 0, 0, 0, 0, 1, 0, 0, 1, 1, 0, 1, 0, 1, 0, 0, 1, 1, 1, 1, 0, 1, 0, 0, 0, 0, 1, 0, 0, 0, 1, 1, 0, 0, 0, 0, 0, 1, 0, 1, 1, 0, 0, 0, 1, 1, 0, 1, 0, 1, 1, 0, 1, 1, 1, 1, 1, 0, 1, 0, 0, 1, 1, 1, 0, 1, 0, 0, 1, 0, 0, 0, 1, 0, 0, 1, 0, 0, 1, 0, 1, 0, 0, 0, 0, 1, 0, 0, 1, 1, 0, 0, 0, 0, 0, 1, 1, 0, 0, 1, 1, 0, 0, 0, 1, 0, 1, 1, 0, 1, 0, 1, 1, 0, 1, 1, 1, 0, 1, 0, 0, 0, 0, 1, 0, 0, 1, 1, 0, 1, 1, 1, 0, 1, 0, 1, 0, 1, 0, 1, 0, 0, 0, 1, 1, 0, 1, 0, 0, 1, 0, 0, 0, 0, 0, 0, 1, 0, 1, 1, 1, 1, 1, 0, 1, 1, 0, 0, 0, 1, 0, 1, 0, 1, 1, 0, 0, 1, 0, 1, 0, 0, 1, 0, 0, 1, 0, 1, 1, 1, 0, 1, 0, 1, 0, 0, 1, 0, 1, 0, 1, 1, 1, 0, 0, 1, 1, 0, 0, 0, 0, 1, 1, 0, 1, 0, 1, 1, 1, 0, 1, 0, 1, 1, 1, 0, 1, 0, 0, 1, 1, 0, 0, 0, 1, 0, 0, 0, 0, 1, 1, 0, 1, 0, 1, 1, 1, 1, 1, 1, 0, 0, 1, 1, 0, 0, 1, 0, 1, 0, 1, 1, 0, 1, 1, 1, 1, 1, 1, 0, 1, 1, 0, 1, 0, 1, 1, 0, 1, 1, 0, 1, 1, 1, 0, 1, 1, 1, 0, 0, 1, 1, 0, 0, 0, 0, 1, 0, 0, 0, 1, 1, 0, 1, 1, 1, 0, 1, 1, 1, 1, 1, 1, 0, 1, 1, 1, 0, 1, 0, 0, 0, 1, 0, 0, 1, 1, 0, 0, 1, 1, 1, 0, 1, 1, 1, 0, 1, 1, 1, 0, 1, 0, 0, 0, 0, 0, 0, 1, 1, 1, 1, 1, 0, 1, 1, 1, 0, 1, 1, 1, 0, 0, 1, 0, 1, 0, 1, 0, 1, 0, 1, 1, 1, 1, 0, 1, 0, 1, 1, 0, 0, 0, 0, 1, 1, 1, 0, 0, 0, 0, 1, 0, 1, 1, 0, 0, 0, 1, 0, 0, 1, 1, 1, 0, 0, 1, 0, 1, 0, 1, 0, 0, 0, 1, 0, 1, 0, 1, 0, 0, 1, 0, 0, 1, 1, 1, 1, 1, 0, 0, 0, 0, 1, 0, 0, 0, 1, 1, 1, 1, 1, 0, 1, 1, 1, 1, 0, 0, 1, 1, 0, 0, 1, 1, 0, 0, 1, 1, 0, 0, 1, 1, 0, 1, 0, 1, 0, 0, 0, 0, 0, 1, 1, 0, 0, 1, 1, 0, 0, 1, 0, 0, 1, 0, 0, 1, 0, 1, 1, 1, 0, 1, 0, 0, 1, 0, 0, 0, 0, 0, 1, 1, 1, 0, 0, 1, 0, 1, 0, 1, 0, 0, 0, 0, 1, 0, 0, 0, 0, 0, 1, 1, 1, 1, 1, 1, 1, 1, 0, 0, 1, 0, 0, 1, 0, 1, 1, 1, 0, 1, 1, 0, 0, 1, 0, 0, 1, 1, 1, 1, 0, 1, 0, 0, 1, 1, 0, 1, 1, 1, 0, 0, 0, 1, 1, 0, 0, 0, 1, 0, 1, 0, 1, 0, 0, 1, 0, 1, 1, 0, 1, 0, 0, 0, 1, 0, 1, 0, 1, 1, 1, 0, 1, 0, 0, 1, 0, 1, 0, 1, 1, 0, 1, 0, 1, 1, 0, 1, 1, 1, 0, 0, 1, 0, 1, 0, 1, 0, 1, 0, 0, 1, 1, 0, 1, 0, 0, 1, 1, 1, 0, 1, 1, 1, 0, 0, 1, 0, 1, 1, 0, 1, 1, 1, 1, 0, 1, 1, 0, 0, 0, 0, 1, 1, 1, 1, 1, 1, 1, 0, 0, 0, 0, 1, 0, 1, 1, 1, 0, 0, 0, 0, 0, 0, 0, 0, 0, 1, 1, 1, 1, 1, 1, 0, 0, 0, 1, 1, 0, 0, 1, 1, 0, 0, 1, 1, 1, 0, 0, 0, 1, 1, 0, 0, 0, 1, 0, 0, 1, 0, 0, 1, 1, 0, 0, 0, 0, 0, 1, 0, 0, 0, 1, 0, 1, 1, 1, 0, 0, 0, 1, 0, 1, 1, 0, 0, 1, 1, 0, 1, 1, 0, 1, 0, 1, 1, 1, 1, 1, 0, 0, 1, 1, 1, 1, 0, 0, 0, 0, 1, 1, 0, 0, 0, 1, 0, 1, 1, 0, 0, 1, 0, 0, 0, 1, 1, 0, 1, 0, 1, 0, 0, 0, 1, 0, 1, 1, 1, 1, 0, 1, 1, 1, 0, 1, 1, 0, 1, 1, 0, 1, 0, 0, 0, 0, 0, 0, 0, 0, 0, 1, 0, 0, 1, 1, 1, 0, 1, 1, 0, 0, 1, 0, 1, 1, 0, 1, 0, 1, 0, 0, 0, 0, 0, 1, 1, 0, 1, 1, 0, 0, 0, 1, 1, 0, 0, 1, 0, 1, 0, 0, 1, 0, 1, 1, 1, 0, 1, 0, 1, 1, 1, 1, 1, 1, 0, 0, 1, 0, 1, 0, 1, 1, 0, 1, 0, 1, 1, 0, 1, 1, 1, 0, 0, 0, 0, 1, 0, 0, 1, 1, 0, 0, 0, 1, 1, 1, 0, 1, 0, 0, 1, 1, 1, 0, 1, 0, 1, 0, 0, 0, 1, 0, 1, 0, 1, 0, 1, 0, 0, 1, 1, 0, 0, 0, 1, 1, 1, 0, 1, 0, 0, 1, 0, 1, 1, 0, 0, 0, 0, 1, 1, 0, 1, 1, 1, 1, 1, 0, 0, 0, 0, 1, 0, 1, 0, 0, 1, 0, 1, 1, 1, 0, 1, 0, 1, 1, 1, 1, 1, 0, 0, 0, 1, 0, 1, 1, 0, 1, 1, 0, 1, 1, 0, 1, 1, 0, 0, 1, 1, 0, 1, 0, 1, 0, 0, 1, 1, 0, 0, 1, 0, 0, 0, 0, 1, 0, 0, 1, 1, 0, 0, 1, 1, 0, 1, 0, 0, 0, 1, 0, 1, 0, 0, 1, 0, 0, 0]\n",
            "X_test:        Feature 1  Feature 2  Feature 3  Feature 4  Feature 5  ...  f1  f2  f3  f4  f5\n",
            "821   -0.773627  -0.314683  -0.738322   0.557251   0.146100  ...   0   0   0   0   0\n",
            "2093  -0.862240  -0.519127  -0.790246   0.734320   0.548611  ...   1   0   1   0   0\n",
            "2332  -0.859035  -0.598091  -0.964163   0.810637   0.679747  ...   0   0   0   0   0\n",
            "792   -0.910436  -0.449340  -0.957538   0.855563   0.579249  ...   0   0   0   0   0\n",
            "1296  -0.682954  -0.495189  -0.943785   0.592260   0.607674  ...   0   0   0   0   0\n",
            "...         ...        ...        ...        ...        ...  ...  ..  ..  ..  ..  ..\n",
            "3632  -0.737719  -0.462924  -0.740624   0.658699   0.460851  ...   0   0   0   0   0\n",
            "3213  -0.823429  -0.603580  -0.914217   0.738748   0.564612  ...   0   0   0   0   0\n",
            "873   -0.871130  -0.441465  -0.864536   0.711781   0.700817  ...   0   0   0   0   0\n",
            "659   -0.651717  -0.415339  -0.976931   0.791016   0.783087  ...   0   0   0   0   0\n",
            "1371  -0.798437  -0.412133  -0.746009   0.645203   0.605390  ...   0   0   0   0   0\n",
            "\n",
            "[1400 rows x 773 columns]\n",
            "y_test:  [0, 1, 1, 0, 0, 0, 1, 1, 0, 1, 1, 1, 0, 0, 1, 1, 1, 0, 1, 0, 1, 0, 1, 1, 0, 0, 0, 1, 0, 0, 1, 0, 0, 0, 0, 0, 1, 1, 0, 1, 1, 1, 1, 0, 0, 1, 0, 1, 0, 1, 1, 1, 1, 1, 1, 1, 1, 0, 1, 1, 1, 1, 1, 0, 0, 1, 0, 0, 0, 1, 0, 1, 1, 1, 1, 0, 0, 0, 0, 0, 0, 0, 1, 1, 0, 0, 0, 0, 1, 1, 0, 0, 0, 0, 0, 0, 1, 1, 1, 1, 0, 1, 1, 0, 1, 0, 0, 0, 1, 1, 1, 0, 0, 0, 1, 0, 1, 0, 0, 0, 0, 1, 0, 1, 0, 1, 0, 0, 1, 1, 0, 0, 1, 1, 1, 0, 0, 0, 1, 0, 1, 1, 1, 0, 1, 0, 1, 1, 0, 1, 0, 1, 0, 0, 1, 0, 0, 0, 1, 1, 1, 1, 0, 1, 0, 1, 1, 0, 1, 1, 0, 1, 0, 0, 0, 1, 1, 0, 1, 0, 1, 0, 0, 0, 0, 1, 0, 1, 1, 1, 0, 1, 1, 0, 0, 1, 1, 1, 1, 0, 1, 0, 0, 1, 0, 0, 1, 0, 1, 0, 1, 1, 1, 1, 0, 1, 1, 0, 0, 0, 1, 0, 0, 1, 1, 0, 0, 1, 0, 1, 1, 0, 1, 1, 1, 0, 0, 1, 1, 1, 0, 0, 1, 1, 0, 1, 1, 0, 1, 1, 1, 0, 0, 1, 0, 1, 1, 1, 0, 0, 1, 1, 1, 0, 1, 1, 1, 0, 1, 1, 1, 1, 0, 0, 0, 1, 1, 1, 0, 0, 0, 0, 1, 0, 0, 0, 0, 1, 1, 0, 1, 0, 1, 1, 1, 1, 0, 0, 0, 1, 0, 0, 1, 1, 0, 0, 0, 1, 0, 1, 1, 0, 0, 0, 0, 1, 1, 1, 0, 0, 1, 0, 1, 0, 1, 0, 1, 0, 1, 1, 1, 0, 0, 1, 1, 0, 0, 0, 1, 1, 0, 1, 1, 1, 0, 0, 1, 0, 0, 1, 1, 1, 1, 0, 0, 0, 0, 1, 1, 1, 1, 1, 0, 1, 0, 1, 1, 1, 1, 1, 1, 0, 0, 1, 0, 0, 1, 0, 0, 1, 0, 0, 1, 0, 0, 1, 0, 0, 0, 1, 1, 1, 1, 0, 1, 1, 1, 1, 0, 1, 1, 0, 1, 1, 1, 0, 1, 0, 1, 0, 0, 1, 1, 1, 1, 0, 0, 0, 1, 0, 1, 0, 1, 0, 0, 0, 0, 1, 0, 0, 1, 1, 1, 0, 1, 1, 1, 1, 0, 0, 1, 0, 0, 0, 1, 0, 1, 1, 1, 0, 0, 0, 0, 1, 0, 0, 1, 0, 0, 1, 0, 0, 1, 1, 0, 1, 0, 0, 1, 1, 1, 1, 0, 0, 1, 0, 0, 1, 1, 1, 1, 1, 0, 0, 1, 0, 0, 0, 1, 1, 0, 0, 0, 1, 0, 1, 1, 1, 1, 1, 0, 0, 1, 0, 1, 0, 0, 0, 0, 1, 1, 0, 0, 1, 0, 1, 0, 0, 0, 1, 1, 1, 0, 1, 1, 0, 1, 0, 1, 1, 0, 0, 1, 0, 1, 0, 0, 0, 0, 0, 0, 0, 0, 0, 1, 0, 1, 0, 0, 0, 1, 1, 1, 1, 1, 1, 1, 1, 0, 0, 0, 1, 1, 1, 0, 0, 1, 0, 1, 0, 0, 1, 0, 0, 0, 0, 1, 0, 0, 0, 1, 1, 1, 0, 0, 1, 1, 1, 0, 0, 0, 0, 0, 0, 0, 0, 1, 0, 0, 1, 0, 1, 0, 1, 1, 1, 0, 0, 0, 0, 1, 1, 1, 1, 0, 0, 0, 0, 0, 0, 1, 1, 0, 1, 1, 0, 1, 0, 0, 0, 0, 0, 1, 1, 0, 1, 1, 0, 0, 0, 0, 0, 0, 0, 1, 1, 0, 0, 0, 1, 1, 0, 0, 1, 1, 0, 1, 1, 1, 0, 0, 0, 0, 1, 1, 0, 0, 0, 0, 1, 1, 1, 0, 0, 0, 0, 1, 1, 0, 0, 0, 0, 0, 0, 1, 1, 1, 1, 1, 0, 1, 1, 1, 1, 0, 0, 1, 0, 0, 0, 0, 1, 1, 0, 0, 1, 0, 1, 1, 0, 0, 0, 0, 0, 0, 0, 1, 0, 1, 0, 0, 1, 0, 1, 0, 0, 1, 1, 1, 0, 0, 1, 0, 0, 0, 1, 0, 1, 1, 1, 1, 1, 0, 1, 0, 0, 1, 1, 0, 1, 1, 1, 1, 1, 1, 1, 0, 0, 0, 0, 0, 1, 1, 0, 1, 0, 0, 1, 1, 1, 1, 1, 1, 1, 1, 0, 0, 1, 1, 0, 1, 1, 1, 1, 1, 1, 1, 1, 1, 0, 1, 1, 0, 0, 1, 0, 1, 0, 1, 1, 1, 1, 0, 1, 0, 0, 1, 0, 1, 1, 0, 0, 0, 1, 0, 0, 0, 1, 1, 1, 1, 1, 0, 0, 0, 1, 0, 0, 1, 0, 1, 0, 0, 0, 0, 1, 0, 0, 1, 1, 1, 0, 1, 0, 0, 1, 0, 1, 0, 1, 1, 0, 0, 1, 0, 0, 0, 1, 1, 1, 0, 0, 1, 1, 0, 0, 1, 0, 1, 0, 1, 1, 0, 0, 1, 0, 1, 0, 1, 1, 1, 0, 1, 1, 1, 0, 1, 1, 0, 0, 0, 0, 1, 0, 1, 1, 0, 0, 0, 1, 0, 1, 0, 0, 1, 1, 1, 0, 1, 0, 0, 1, 1, 1, 1, 0, 1, 1, 1, 1, 1, 1, 1, 1, 1, 0, 0, 0, 0, 1, 0, 1, 1, 0, 0, 0, 1, 0, 1, 0, 1, 0, 0, 0, 1, 0, 0, 1, 0, 1, 0, 0, 1, 0, 1, 1, 1, 1, 1, 1, 1, 1, 0, 1, 0, 1, 1, 1, 1, 1, 0, 0, 0, 0, 1, 1, 0, 1, 0, 1, 1, 0, 1, 1, 1, 1, 1, 0, 1, 0, 0, 1, 1, 0, 0, 0, 0, 0, 0, 0, 1, 1, 1, 0, 0, 0, 1, 0, 0, 1, 0, 1, 1, 0, 1, 0, 1, 0, 0, 1, 0, 1, 0, 1, 0, 0, 0, 0, 0, 0, 0, 0, 0, 1, 0, 1, 0, 0, 1, 0, 1, 1, 1, 1, 0, 0, 0, 0, 1, 1, 0, 0, 0, 1, 0, 0, 0, 0, 0, 1, 1, 1, 0, 0, 1, 1, 1, 1, 0, 1, 1, 0, 0, 1, 0, 1, 0, 0, 1, 1, 1, 1, 0, 1, 1, 0, 0, 1, 1, 1, 0, 0, 1, 1, 0, 0, 0, 1, 0, 0, 1, 1, 1, 1, 1, 0, 0, 0, 0, 1, 0, 0, 0, 0, 1, 0, 1, 1, 1, 0, 1, 1, 1, 0, 1, 1, 1, 1, 1, 1, 1, 1, 0, 1, 1, 0, 0, 1, 1, 0, 0, 0, 1, 1, 0, 1, 1, 0, 0, 0, 0, 0, 1, 1, 1, 1, 0, 1, 1, 0, 1, 1, 1, 0, 0, 0, 0, 1, 1, 1, 1, 1, 0, 1, 0, 0, 0, 1, 0, 0, 1, 0, 0, 1, 0, 0, 1, 1, 1, 0, 1, 0, 0, 1, 0, 1, 0, 0, 0, 1, 1, 0, 0, 1, 0, 1, 1, 1, 1, 1, 0, 1, 0, 0, 1, 1, 0, 0, 1, 1, 0, 1, 0, 1, 1, 1, 0, 0, 1, 1, 1, 1, 0, 0, 1, 1, 0, 0, 0, 1, 1, 0, 0, 0, 0, 0, 1, 0, 0, 0, 1, 0, 0, 0, 1, 0, 0, 1, 1, 0, 1, 1, 1, 0, 0, 0, 0, 0, 1, 1, 0, 1, 0, 1, 0, 0, 0, 1, 0, 1, 1, 1, 1, 0, 0, 1, 1, 1, 1, 1, 0, 0, 1, 1, 0, 0, 0, 0, 1, 0, 0, 1, 1, 0, 0, 1, 0, 0, 1, 0, 1, 0, 1, 0, 0, 0, 0, 1, 0, 0, 1, 1, 0, 1, 1, 0, 1, 1, 1, 0, 0, 0, 0, 1, 0, 0, 0, 1, 1, 0, 0, 1, 1, 1, 0, 0, 0, 0, 0, 1, 0, 1, 1, 0, 1, 1, 1, 1, 1, 0, 0, 0, 0, 0, 0, 1, 1, 0, 0, 1, 0, 0, 1, 0, 0, 0, 1, 1, 0, 1, 0, 0, 1, 0, 1, 1, 0, 1, 0, 1, 1, 1, 1, 1, 1, 1, 1, 0, 0, 0]\n"
          ],
          "name": "stdout"
        }
      ]
    },
    {
      "cell_type": "code",
      "metadata": {
        "id": "DmKdXeUSF79H"
      },
      "source": [
        "import tensorflow as tf\n",
        "from tensorflow import keras\n",
        "from tensorflow.keras import layers\n"
      ],
      "execution_count": null,
      "outputs": []
    },
    {
      "cell_type": "code",
      "metadata": {
        "id": "BicAbvbSHJDf",
        "colab": {
          "base_uri": "https://localhost:8080/"
        },
        "outputId": "1d4e5e87-92c4-4b94-beb5-56c51410b76b"
      },
      "source": [
        "model = keras.Sequential()\n",
        "model.add(keras.Input(shape=(773,)))\n",
        "model.add(layers.Dense(2, activation=\"sigmoid\"))\n",
        "\n",
        "\n",
        "model.summary()\n"
      ],
      "execution_count": null,
      "outputs": [
        {
          "output_type": "stream",
          "text": [
            "Model: \"sequential\"\n",
            "_________________________________________________________________\n",
            "Layer (type)                 Output Shape              Param #   \n",
            "=================================================================\n",
            "dense (Dense)                (None, 2)                 1548      \n",
            "=================================================================\n",
            "Total params: 1,548\n",
            "Trainable params: 1,548\n",
            "Non-trainable params: 0\n",
            "_________________________________________________________________\n"
          ],
          "name": "stdout"
        }
      ]
    },
    {
      "cell_type": "code",
      "metadata": {
        "id": "pAnuXcvrHrz7"
      },
      "source": [
        "X_train=np.array(X_train)\n",
        "y_train=np.array(y_train)"
      ],
      "execution_count": null,
      "outputs": []
    },
    {
      "cell_type": "code",
      "metadata": {
        "id": "LnjAoKx6HfKT"
      },
      "source": [
        "model.compile(optimizer = 'adam',loss='sparse_categorical_crossentropy',metrics =['accuracy',])"
      ],
      "execution_count": null,
      "outputs": []
    },
    {
      "cell_type": "code",
      "metadata": {
        "id": "cGoBFlnO1gI-"
      },
      "source": [
        "from matplotlib import pyplot"
      ],
      "execution_count": null,
      "outputs": []
    },
    {
      "cell_type": "code",
      "metadata": {
        "id": "8JOwTs7YXhDz",
        "colab": {
          "base_uri": "https://localhost:8080/",
          "height": 1000
        },
        "outputId": "e5f8c9b6-a3cc-4d84-882f-56ce64e3cf31"
      },
      "source": [
        "# train model\n",
        "history = model.fit(X_train, y_train, epochs=100, verbose=2)\n",
        "# plot metrics\n",
        "pyplot.plot(history.history['accuracy'])\n",
        "pyplot.show()"
      ],
      "execution_count": null,
      "outputs": [
        {
          "output_type": "stream",
          "text": [
            "Epoch 1/100\n",
            "82/82 - 0s - loss: 0.0641 - accuracy: 0.9796\n",
            "Epoch 2/100\n",
            "82/82 - 0s - loss: 0.0646 - accuracy: 0.9804\n",
            "Epoch 3/100\n",
            "82/82 - 0s - loss: 0.0653 - accuracy: 0.9781\n",
            "Epoch 4/100\n",
            "82/82 - 0s - loss: 0.0634 - accuracy: 0.9788\n",
            "Epoch 5/100\n",
            "82/82 - 0s - loss: 0.0656 - accuracy: 0.9777\n",
            "Epoch 6/100\n",
            "82/82 - 0s - loss: 0.0643 - accuracy: 0.9785\n",
            "Epoch 7/100\n",
            "82/82 - 0s - loss: 0.0615 - accuracy: 0.9819\n",
            "Epoch 8/100\n",
            "82/82 - 0s - loss: 0.0628 - accuracy: 0.9785\n",
            "Epoch 9/100\n",
            "82/82 - 0s - loss: 0.0689 - accuracy: 0.9785\n",
            "Epoch 10/100\n",
            "82/82 - 0s - loss: 0.0653 - accuracy: 0.9769\n",
            "Epoch 11/100\n",
            "82/82 - 0s - loss: 0.0613 - accuracy: 0.9800\n",
            "Epoch 12/100\n",
            "82/82 - 0s - loss: 0.0621 - accuracy: 0.9792\n",
            "Epoch 13/100\n",
            "82/82 - 0s - loss: 0.0608 - accuracy: 0.9804\n",
            "Epoch 14/100\n",
            "82/82 - 0s - loss: 0.0607 - accuracy: 0.9800\n",
            "Epoch 15/100\n",
            "82/82 - 0s - loss: 0.0593 - accuracy: 0.9800\n",
            "Epoch 16/100\n",
            "82/82 - 0s - loss: 0.0589 - accuracy: 0.9827\n",
            "Epoch 17/100\n",
            "82/82 - 0s - loss: 0.0621 - accuracy: 0.9792\n",
            "Epoch 18/100\n",
            "82/82 - 0s - loss: 0.0588 - accuracy: 0.9808\n",
            "Epoch 19/100\n",
            "82/82 - 0s - loss: 0.0599 - accuracy: 0.9800\n",
            "Epoch 20/100\n",
            "82/82 - 0s - loss: 0.0611 - accuracy: 0.9792\n",
            "Epoch 21/100\n",
            "82/82 - 0s - loss: 0.0586 - accuracy: 0.9800\n",
            "Epoch 22/100\n",
            "82/82 - 0s - loss: 0.0608 - accuracy: 0.9788\n",
            "Epoch 23/100\n",
            "82/82 - 0s - loss: 0.0586 - accuracy: 0.9792\n",
            "Epoch 24/100\n",
            "82/82 - 0s - loss: 0.0602 - accuracy: 0.9812\n",
            "Epoch 25/100\n",
            "82/82 - 0s - loss: 0.0584 - accuracy: 0.9792\n",
            "Epoch 26/100\n",
            "82/82 - 0s - loss: 0.0607 - accuracy: 0.9781\n",
            "Epoch 27/100\n",
            "82/82 - 0s - loss: 0.0590 - accuracy: 0.9819\n",
            "Epoch 28/100\n",
            "82/82 - 0s - loss: 0.0587 - accuracy: 0.9796\n",
            "Epoch 29/100\n",
            "82/82 - 0s - loss: 0.0562 - accuracy: 0.9819\n",
            "Epoch 30/100\n",
            "82/82 - 0s - loss: 0.0571 - accuracy: 0.9819\n",
            "Epoch 31/100\n",
            "82/82 - 0s - loss: 0.0550 - accuracy: 0.9815\n",
            "Epoch 32/100\n",
            "82/82 - 0s - loss: 0.0567 - accuracy: 0.9827\n",
            "Epoch 33/100\n",
            "82/82 - 0s - loss: 0.0573 - accuracy: 0.9823\n",
            "Epoch 34/100\n",
            "82/82 - 0s - loss: 0.0540 - accuracy: 0.9835\n",
            "Epoch 35/100\n",
            "82/82 - 0s - loss: 0.0597 - accuracy: 0.9815\n",
            "Epoch 36/100\n",
            "82/82 - 0s - loss: 0.0567 - accuracy: 0.9812\n",
            "Epoch 37/100\n",
            "82/82 - 0s - loss: 0.0574 - accuracy: 0.9812\n",
            "Epoch 38/100\n",
            "82/82 - 0s - loss: 0.0570 - accuracy: 0.9804\n",
            "Epoch 39/100\n",
            "82/82 - 0s - loss: 0.0553 - accuracy: 0.9827\n",
            "Epoch 40/100\n",
            "82/82 - 0s - loss: 0.0601 - accuracy: 0.9788\n",
            "Epoch 41/100\n",
            "82/82 - 0s - loss: 0.0547 - accuracy: 0.9804\n",
            "Epoch 42/100\n",
            "82/82 - 0s - loss: 0.0538 - accuracy: 0.9838\n",
            "Epoch 43/100\n",
            "82/82 - 0s - loss: 0.0544 - accuracy: 0.9827\n",
            "Epoch 44/100\n",
            "82/82 - 0s - loss: 0.0563 - accuracy: 0.9796\n",
            "Epoch 45/100\n",
            "82/82 - 0s - loss: 0.0542 - accuracy: 0.9850\n",
            "Epoch 46/100\n",
            "82/82 - 0s - loss: 0.0550 - accuracy: 0.9815\n",
            "Epoch 47/100\n",
            "82/82 - 0s - loss: 0.0558 - accuracy: 0.9819\n",
            "Epoch 48/100\n",
            "82/82 - 0s - loss: 0.0529 - accuracy: 0.9846\n",
            "Epoch 49/100\n",
            "82/82 - 0s - loss: 0.0528 - accuracy: 0.9827\n",
            "Epoch 50/100\n",
            "82/82 - 0s - loss: 0.0543 - accuracy: 0.9831\n",
            "Epoch 51/100\n",
            "82/82 - 0s - loss: 0.0544 - accuracy: 0.9796\n",
            "Epoch 52/100\n",
            "82/82 - 0s - loss: 0.0568 - accuracy: 0.9796\n",
            "Epoch 53/100\n",
            "82/82 - 0s - loss: 0.0536 - accuracy: 0.9823\n",
            "Epoch 54/100\n",
            "82/82 - 0s - loss: 0.0509 - accuracy: 0.9869\n",
            "Epoch 55/100\n",
            "82/82 - 0s - loss: 0.0565 - accuracy: 0.9808\n",
            "Epoch 56/100\n",
            "82/82 - 0s - loss: 0.0515 - accuracy: 0.9838\n",
            "Epoch 57/100\n",
            "82/82 - 0s - loss: 0.0544 - accuracy: 0.9835\n",
            "Epoch 58/100\n",
            "82/82 - 0s - loss: 0.0518 - accuracy: 0.9831\n",
            "Epoch 59/100\n",
            "82/82 - 0s - loss: 0.0506 - accuracy: 0.9850\n",
            "Epoch 60/100\n",
            "82/82 - 0s - loss: 0.0511 - accuracy: 0.9823\n",
            "Epoch 61/100\n",
            "82/82 - 0s - loss: 0.0532 - accuracy: 0.9827\n",
            "Epoch 62/100\n",
            "82/82 - 0s - loss: 0.0511 - accuracy: 0.9842\n",
            "Epoch 63/100\n",
            "82/82 - 0s - loss: 0.0561 - accuracy: 0.9808\n",
            "Epoch 64/100\n",
            "82/82 - 0s - loss: 0.0547 - accuracy: 0.9815\n",
            "Epoch 65/100\n",
            "82/82 - 0s - loss: 0.0485 - accuracy: 0.9865\n",
            "Epoch 66/100\n",
            "82/82 - 0s - loss: 0.0502 - accuracy: 0.9835\n",
            "Epoch 67/100\n",
            "82/82 - 0s - loss: 0.0506 - accuracy: 0.9850\n",
            "Epoch 68/100\n",
            "82/82 - 0s - loss: 0.0516 - accuracy: 0.9835\n",
            "Epoch 69/100\n",
            "82/82 - 0s - loss: 0.0585 - accuracy: 0.9812\n",
            "Epoch 70/100\n",
            "82/82 - 0s - loss: 0.0515 - accuracy: 0.9831\n",
            "Epoch 71/100\n",
            "82/82 - 0s - loss: 0.0500 - accuracy: 0.9858\n",
            "Epoch 72/100\n",
            "82/82 - 0s - loss: 0.0477 - accuracy: 0.9858\n",
            "Epoch 73/100\n",
            "82/82 - 0s - loss: 0.0484 - accuracy: 0.9827\n",
            "Epoch 74/100\n",
            "82/82 - 0s - loss: 0.0498 - accuracy: 0.9835\n",
            "Epoch 75/100\n",
            "82/82 - 0s - loss: 0.0536 - accuracy: 0.9823\n",
            "Epoch 76/100\n",
            "82/82 - 0s - loss: 0.0501 - accuracy: 0.9838\n",
            "Epoch 77/100\n",
            "82/82 - 0s - loss: 0.0511 - accuracy: 0.9831\n",
            "Epoch 78/100\n",
            "82/82 - 0s - loss: 0.0482 - accuracy: 0.9865\n",
            "Epoch 79/100\n",
            "82/82 - 0s - loss: 0.0479 - accuracy: 0.9862\n",
            "Epoch 80/100\n",
            "82/82 - 0s - loss: 0.0484 - accuracy: 0.9838\n",
            "Epoch 81/100\n",
            "82/82 - 0s - loss: 0.0466 - accuracy: 0.9865\n",
            "Epoch 82/100\n",
            "82/82 - 0s - loss: 0.0533 - accuracy: 0.9815\n",
            "Epoch 83/100\n",
            "82/82 - 0s - loss: 0.0470 - accuracy: 0.9846\n",
            "Epoch 84/100\n",
            "82/82 - 0s - loss: 0.0510 - accuracy: 0.9831\n",
            "Epoch 85/100\n",
            "82/82 - 0s - loss: 0.0471 - accuracy: 0.9862\n",
            "Epoch 86/100\n",
            "82/82 - 0s - loss: 0.0495 - accuracy: 0.9835\n",
            "Epoch 87/100\n",
            "82/82 - 0s - loss: 0.0482 - accuracy: 0.9835\n",
            "Epoch 88/100\n",
            "82/82 - 0s - loss: 0.0479 - accuracy: 0.9858\n",
            "Epoch 89/100\n",
            "82/82 - 0s - loss: 0.0482 - accuracy: 0.9850\n",
            "Epoch 90/100\n",
            "82/82 - 0s - loss: 0.0474 - accuracy: 0.9846\n",
            "Epoch 91/100\n",
            "82/82 - 0s - loss: 0.0476 - accuracy: 0.9842\n",
            "Epoch 92/100\n",
            "82/82 - 0s - loss: 0.0476 - accuracy: 0.9842\n",
            "Epoch 93/100\n",
            "82/82 - 0s - loss: 0.0499 - accuracy: 0.9831\n",
            "Epoch 94/100\n",
            "82/82 - 0s - loss: 0.0463 - accuracy: 0.9862\n",
            "Epoch 95/100\n",
            "82/82 - 0s - loss: 0.0486 - accuracy: 0.9812\n",
            "Epoch 96/100\n",
            "82/82 - 0s - loss: 0.0468 - accuracy: 0.9854\n",
            "Epoch 97/100\n",
            "82/82 - 0s - loss: 0.0466 - accuracy: 0.9854\n",
            "Epoch 98/100\n",
            "82/82 - 0s - loss: 0.0471 - accuracy: 0.9858\n",
            "Epoch 99/100\n",
            "82/82 - 0s - loss: 0.0498 - accuracy: 0.9842\n",
            "Epoch 100/100\n",
            "82/82 - 0s - loss: 0.0487 - accuracy: 0.9831\n"
          ],
          "name": "stdout"
        },
        {
          "output_type": "display_data",
          "data": {
            "image/png": "[encoded data removed]",
            "text/plain": [
              "<Figure size 432x288 with 1 Axes>"
            ]
          },
          "metadata": {
            "tags": [],
            "needs_background": "light"
          }
        }
      ]
    },
    {
      "cell_type": "code",
      "metadata": {
        "id": "1RafL1srbDHm"
      },
      "source": [
        "X_test=np.array(X_test)\n",
        "y_test=np.array(y_test)"
      ],
      "execution_count": null,
      "outputs": []
    },
    {
      "cell_type": "code",
      "metadata": {
        "id": "NLX0pHCwbFNi"
      },
      "source": [
        "scores = model.evaluate(X_test, y_test, verbose=0)"
      ],
      "execution_count": null,
      "outputs": []
    },
    {
      "cell_type": "code",
      "metadata": {
        "id": "EceexjAYbG8Z"
      },
      "source": [
        "print(scores)"
      ],
      "execution_count": null,
      "outputs": []
    }
  ]
}