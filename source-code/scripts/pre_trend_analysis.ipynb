{
  "nbformat": 4,
  "nbformat_minor": 0,
  "metadata": {
    "colab": {
      "name": "pre-trend-analysis",
      "provenance": [],
      "collapsed_sections": []
    },
    "kernelspec": {
      "name": "python3",
      "display_name": "Python 3"
    }
  },
  "cells": [
    {
      "cell_type": "code",
      "metadata": {
        "id": "EGr7wnNBhoO5"
      },
      "source": [
        "import pandas as pd\n",
        "import numpy as np\n",
        "import sklearn.model_selection as model_selection"
      ],
      "execution_count": null,
      "outputs": []
    },
    {
      "cell_type": "code",
      "metadata": {
        "id": "ZQ4pTxYWiFLM",
        "colab": {
          "base_uri": "https://localhost:8080/"
        },
        "outputId": "52fcd316-8e15-448c-e2e2-92aae5f3b762"
      },
      "source": [
        "from google.colab import drive\n",
        "drive.mount(\"/content/drive\")"
      ],
      "execution_count": null,
      "outputs": [
        {
          "output_type": "stream",
          "text": [
            "Mounted at /content/drive\n"
          ],
          "name": "stdout"
        }
      ]
    },
    {
      "cell_type": "code",
      "metadata": {
        "id": "S2fobfB1iNmd"
      },
      "source": [
        "covid_data='/content/drive/My Drive/Colab Notebooks/data/covid.csv'"
      ],
      "execution_count": null,
      "outputs": []
    },
    {
      "cell_type": "code",
      "metadata": {
        "id": "3I6qs2V9iVe5",
        "colab": {
          "base_uri": "https://localhost:8080/"
        },
        "outputId": "bd5d9f7d-feac-4d28-ab1f-47c479b4f900"
      },
      "source": [
        "df=pd.read_csv(covid_data)\n",
        "print(df.shape)"
      ],
      "execution_count": null,
      "outputs": [
        {
          "output_type": "stream",
          "text": [
            "(35000, 47)\n"
          ],
          "name": "stdout"
        },
        {
          "output_type": "stream",
          "text": [
            "/usr/local/lib/python3.6/dist-packages/IPython/core/interactiveshell.py:2718: DtypeWarning: Columns (40,45,46) have mixed types.Specify dtype option on import or set low_memory=False.\n",
            "  interactivity=interactivity, compiler=compiler, result=result)\n"
          ],
          "name": "stderr"
        }
      ]
    },
    {
      "cell_type": "code",
      "metadata": {
        "id": "Gy0V6i-witsL"
      },
      "source": [
        "text=df['text']"
      ],
      "execution_count": null,
      "outputs": []
    },
    {
      "cell_type": "code",
      "metadata": {
        "id": "7eUCE_MvjaZQ"
      },
      "source": [
        "s=\"\"\n",
        "for i in range(15000,15500,1):\n",
        "  s=s+text[i]\n",
        "with open('/content/drive/My Drive/Colab Notebooks/covid_sub.txt','w') as f:\n",
        "  f.write(s)"
      ],
      "execution_count": null,
      "outputs": []
    },
    {
      "cell_type": "code",
      "metadata": {
        "id": "_VDEknTBix2p"
      },
      "source": [
        "date=df['created_at']\n",
        "\n",
        "for i in range(date.size):\n",
        "  if 'Jan' in str(date[i]):\n",
        "    s=text[i]\n",
        "    with open('/content/drive/My Drive/Colab Notebooks/data/covid_jan.txt','a') as f1:\n",
        "      f1.write(s) \n",
        "  elif 'Feb' in date[i]:\n",
        "    s1=text[i]\n",
        "    with open('/content/drive/My Drive/Colab Notebooks/data/covid_feb.txt','a') as f2:\n",
        "      f2.write(s1)\n",
        "  elif 'Mar' in date[i]:\n",
        "    s2=text[i]\n",
        "    with open('/content/drive/My Drive/Colab Notebooks/data/covid_mar.txt','a') as f3:\n",
        "      f3.write(s2) \n",
        "  elif 'Apr' in date[i]:\n",
        "    s3=text[i]\n",
        "    with open('/content/drive/My Drive/Colab Notebooks/data/covid_apr.txt','a') as f4:\n",
        "      f4.write(s3) \n",
        "  elif 'May' in date[i]:\n",
        "    s4=text[i]\n",
        "    with open('/content/drive/My Drive/Colab Notebooks/data/covid_may.txt','a') as f5:\n",
        "      f5.write(s4) \n",
        "  elif 'Jun' in date[i]:\n",
        "    s5=text[i]\n",
        "    with open('/content/drive/My Drive/Colab Notebooks/data/covid_jun.txt','a') as f6:\n",
        "      f6.write(s5) \n",
        "  elif 'Jul' in date[i]:\n",
        "    s6=text[i]\n",
        "    with open('/content/drive/My Drive/Colab Notebooks/data/covid_jul.txt','a') as f7:\n",
        "      f7.write(s6) \n",
        "  elif 'Aug' in date[i]:\n",
        "    s7=text[i]\n",
        "    with open('/content/drive/My Drive/Colab Notebooks/data/covid_aug.txt','a') as f8:\n",
        "      f8.write(s7) "
      ],
      "execution_count": null,
      "outputs": []
    }
  ]
}